{
  "nbformat": 4,
  "nbformat_minor": 0,
  "metadata": {
    "colab": {
      "name": "Support_Vector(SVM1).ipynb",
      "provenance": [],
      "include_colab_link": true
    },
    "kernelspec": {
      "name": "python3",
      "display_name": "Python 3"
    },
    "language_info": {
      "name": "python"
    },
    "accelerator": "GPU",
    "gpuClass": "standard"
  },
  "cells": [
    {
      "cell_type": "markdown",
      "metadata": {
        "id": "view-in-github",
        "colab_type": "text"
      },
      "source": [
        "<a href=\"https://colab.research.google.com/github/Rotha-Vichet/ML-finalProject/blob/main/Support_Vector(SVM1).ipynb\" target=\"_parent\"><img src=\"https://colab.research.google.com/assets/colab-badge.svg\" alt=\"Open In Colab\"/></a>"
      ]
    },
    {
      "cell_type": "code",
      "source": [
        "# !pip install seaborn"
      ],
      "metadata": {
        "id": "OC6ZRfscu-2Z"
      },
      "execution_count": null,
      "outputs": []
    },
    {
      "cell_type": "markdown",
      "source": [
        "https://hands-on.cloud/implementation-of-support-vector-machine-svm-using-python/"
      ],
      "metadata": {
        "id": "yDTBi__7vRrz"
      }
    },
    {
      "cell_type": "code",
      "execution_count": null,
      "metadata": {
        "id": "7iWtMQt0aNo4"
      },
      "outputs": [],
      "source": [
        "import numpy as np\n",
        "import matplotlib.pyplot as plt\n",
        "import pandas as pd \n",
        "import seaborn as sns"
      ]
    },
    {
      "cell_type": "code",
      "source": [
        "# from google.colab import files \n",
        "# file = files.upload()"
      ],
      "metadata": {
        "id": "htRgKeUfvyOk"
      },
      "execution_count": null,
      "outputs": []
    },
    {
      "cell_type": "code",
      "source": [
        "# import dataset\n",
        "dataset = pd.read_csv(\"https://hands-on.cloud/wp-content/uploads/2022/01/customer_purchases.csv\")\n",
        "dataset.head(10)"
      ],
      "metadata": {
        "id": "HemB6Uvsacu-",
        "colab": {
          "base_uri": "https://localhost:8080/",
          "height": 363
        },
        "outputId": "7c89a323-3389-4787-e9be-185fe873b1c3"
      },
      "execution_count": null,
      "outputs": [
        {
          "output_type": "execute_result",
          "data": {
            "text/plain": [
              "   Age  Salary  Purchased\n",
              "0   19   19000          0\n",
              "1   35   20000          0\n",
              "2   26   43000          0\n",
              "3   27   57000          0\n",
              "4   19   76000          0\n",
              "5   27   58000          0\n",
              "6   27   84000          0\n",
              "7   32  150000          1\n",
              "8   25   33000          0\n",
              "9   35   65000          0"
            ],
            "text/html": [
              "\n",
              "  <div id=\"df-f95303b2-22df-4a73-86bc-1fca6034476d\">\n",
              "    <div class=\"colab-df-container\">\n",
              "      <div>\n",
              "<style scoped>\n",
              "    .dataframe tbody tr th:only-of-type {\n",
              "        vertical-align: middle;\n",
              "    }\n",
              "\n",
              "    .dataframe tbody tr th {\n",
              "        vertical-align: top;\n",
              "    }\n",
              "\n",
              "    .dataframe thead th {\n",
              "        text-align: right;\n",
              "    }\n",
              "</style>\n",
              "<table border=\"1\" class=\"dataframe\">\n",
              "  <thead>\n",
              "    <tr style=\"text-align: right;\">\n",
              "      <th></th>\n",
              "      <th>Age</th>\n",
              "      <th>Salary</th>\n",
              "      <th>Purchased</th>\n",
              "    </tr>\n",
              "  </thead>\n",
              "  <tbody>\n",
              "    <tr>\n",
              "      <th>0</th>\n",
              "      <td>19</td>\n",
              "      <td>19000</td>\n",
              "      <td>0</td>\n",
              "    </tr>\n",
              "    <tr>\n",
              "      <th>1</th>\n",
              "      <td>35</td>\n",
              "      <td>20000</td>\n",
              "      <td>0</td>\n",
              "    </tr>\n",
              "    <tr>\n",
              "      <th>2</th>\n",
              "      <td>26</td>\n",
              "      <td>43000</td>\n",
              "      <td>0</td>\n",
              "    </tr>\n",
              "    <tr>\n",
              "      <th>3</th>\n",
              "      <td>27</td>\n",
              "      <td>57000</td>\n",
              "      <td>0</td>\n",
              "    </tr>\n",
              "    <tr>\n",
              "      <th>4</th>\n",
              "      <td>19</td>\n",
              "      <td>76000</td>\n",
              "      <td>0</td>\n",
              "    </tr>\n",
              "    <tr>\n",
              "      <th>5</th>\n",
              "      <td>27</td>\n",
              "      <td>58000</td>\n",
              "      <td>0</td>\n",
              "    </tr>\n",
              "    <tr>\n",
              "      <th>6</th>\n",
              "      <td>27</td>\n",
              "      <td>84000</td>\n",
              "      <td>0</td>\n",
              "    </tr>\n",
              "    <tr>\n",
              "      <th>7</th>\n",
              "      <td>32</td>\n",
              "      <td>150000</td>\n",
              "      <td>1</td>\n",
              "    </tr>\n",
              "    <tr>\n",
              "      <th>8</th>\n",
              "      <td>25</td>\n",
              "      <td>33000</td>\n",
              "      <td>0</td>\n",
              "    </tr>\n",
              "    <tr>\n",
              "      <th>9</th>\n",
              "      <td>35</td>\n",
              "      <td>65000</td>\n",
              "      <td>0</td>\n",
              "    </tr>\n",
              "  </tbody>\n",
              "</table>\n",
              "</div>\n",
              "      <button class=\"colab-df-convert\" onclick=\"convertToInteractive('df-f95303b2-22df-4a73-86bc-1fca6034476d')\"\n",
              "              title=\"Convert this dataframe to an interactive table.\"\n",
              "              style=\"display:none;\">\n",
              "        \n",
              "  <svg xmlns=\"http://www.w3.org/2000/svg\" height=\"24px\"viewBox=\"0 0 24 24\"\n",
              "       width=\"24px\">\n",
              "    <path d=\"M0 0h24v24H0V0z\" fill=\"none\"/>\n",
              "    <path d=\"M18.56 5.44l.94 2.06.94-2.06 2.06-.94-2.06-.94-.94-2.06-.94 2.06-2.06.94zm-11 1L8.5 8.5l.94-2.06 2.06-.94-2.06-.94L8.5 2.5l-.94 2.06-2.06.94zm10 10l.94 2.06.94-2.06 2.06-.94-2.06-.94-.94-2.06-.94 2.06-2.06.94z\"/><path d=\"M17.41 7.96l-1.37-1.37c-.4-.4-.92-.59-1.43-.59-.52 0-1.04.2-1.43.59L10.3 9.45l-7.72 7.72c-.78.78-.78 2.05 0 2.83L4 21.41c.39.39.9.59 1.41.59.51 0 1.02-.2 1.41-.59l7.78-7.78 2.81-2.81c.8-.78.8-2.07 0-2.86zM5.41 20L4 18.59l7.72-7.72 1.47 1.35L5.41 20z\"/>\n",
              "  </svg>\n",
              "      </button>\n",
              "      \n",
              "  <style>\n",
              "    .colab-df-container {\n",
              "      display:flex;\n",
              "      flex-wrap:wrap;\n",
              "      gap: 12px;\n",
              "    }\n",
              "\n",
              "    .colab-df-convert {\n",
              "      background-color: #E8F0FE;\n",
              "      border: none;\n",
              "      border-radius: 50%;\n",
              "      cursor: pointer;\n",
              "      display: none;\n",
              "      fill: #1967D2;\n",
              "      height: 32px;\n",
              "      padding: 0 0 0 0;\n",
              "      width: 32px;\n",
              "    }\n",
              "\n",
              "    .colab-df-convert:hover {\n",
              "      background-color: #E2EBFA;\n",
              "      box-shadow: 0px 1px 2px rgba(60, 64, 67, 0.3), 0px 1px 3px 1px rgba(60, 64, 67, 0.15);\n",
              "      fill: #174EA6;\n",
              "    }\n",
              "\n",
              "    [theme=dark] .colab-df-convert {\n",
              "      background-color: #3B4455;\n",
              "      fill: #D2E3FC;\n",
              "    }\n",
              "\n",
              "    [theme=dark] .colab-df-convert:hover {\n",
              "      background-color: #434B5C;\n",
              "      box-shadow: 0px 1px 3px 1px rgba(0, 0, 0, 0.15);\n",
              "      filter: drop-shadow(0px 1px 2px rgba(0, 0, 0, 0.3));\n",
              "      fill: #FFFFFF;\n",
              "    }\n",
              "  </style>\n",
              "\n",
              "      <script>\n",
              "        const buttonEl =\n",
              "          document.querySelector('#df-f95303b2-22df-4a73-86bc-1fca6034476d button.colab-df-convert');\n",
              "        buttonEl.style.display =\n",
              "          google.colab.kernel.accessAllowed ? 'block' : 'none';\n",
              "\n",
              "        async function convertToInteractive(key) {\n",
              "          const element = document.querySelector('#df-f95303b2-22df-4a73-86bc-1fca6034476d');\n",
              "          const dataTable =\n",
              "            await google.colab.kernel.invokeFunction('convertToInteractive',\n",
              "                                                     [key], {});\n",
              "          if (!dataTable) return;\n",
              "\n",
              "          const docLinkHtml = 'Like what you see? Visit the ' +\n",
              "            '<a target=\"_blank\" href=https://colab.research.google.com/notebooks/data_table.ipynb>data table notebook</a>'\n",
              "            + ' to learn more about interactive tables.';\n",
              "          element.innerHTML = '';\n",
              "          dataTable['output_type'] = 'display_data';\n",
              "          await google.colab.output.renderOutput(dataTable, element);\n",
              "          const docLink = document.createElement('div');\n",
              "          docLink.innerHTML = docLinkHtml;\n",
              "          element.appendChild(docLink);\n",
              "        }\n",
              "      </script>\n",
              "    </div>\n",
              "  </div>\n",
              "  "
            ]
          },
          "metadata": {},
          "execution_count": 4
        }
      ]
    },
    {
      "cell_type": "code",
      "source": [
        "# split the data into input and outputs\n",
        "# x_input = dataset.iloc[:, [0,1]].values\n",
        "# y_output = dataset.iloc[:,2].values\n",
        "\n",
        "# print(x_input.shape)\n",
        "# print(y_output.shape)"
      ],
      "metadata": {
        "id": "P6zJcCBOyRM9"
      },
      "execution_count": null,
      "outputs": []
    },
    {
      "cell_type": "code",
      "source": [
        "dataset.columns"
      ],
      "metadata": {
        "colab": {
          "base_uri": "https://localhost:8080/"
        },
        "id": "KqQxD0APzPJV",
        "outputId": "eb7ca448-9120-4218-886a-2acafed52f68"
      },
      "execution_count": null,
      "outputs": [
        {
          "output_type": "execute_result",
          "data": {
            "text/plain": [
              "Index(['Age', 'Salary', 'Purchased'], dtype='object')"
            ]
          },
          "metadata": {},
          "execution_count": 6
        }
      ]
    },
    {
      "cell_type": "code",
      "source": [
        "dataset.isnull().sum()"
      ],
      "metadata": {
        "colab": {
          "base_uri": "https://localhost:8080/"
        },
        "id": "GpdHBPDg0Zkg",
        "outputId": "efbc4805-5a7e-4bb6-debc-42bbf04a6c91"
      },
      "execution_count": null,
      "outputs": [
        {
          "output_type": "execute_result",
          "data": {
            "text/plain": [
              "Age          0\n",
              "Salary       0\n",
              "Purchased    0\n",
              "dtype: int64"
            ]
          },
          "metadata": {},
          "execution_count": 7
        }
      ]
    },
    {
      "cell_type": "code",
      "source": [
        "# split or assign columns as the input and output \n",
        "x_input = [\"Age\",\"Salary\"]\n",
        "y_output = [\"Purchased\"]\n",
        "\n",
        "# reshape \n",
        "x = dataset[x_input].values.reshape(-1,2)\n",
        "y = dataset[y_output].values.reshape(-1,1)\n",
        "\n",
        "print(x.shape)\n",
        "print(y.shape)"
      ],
      "metadata": {
        "colab": {
          "base_uri": "https://localhost:8080/"
        },
        "id": "b_tNnMSdzJOs",
        "outputId": "c8b4608f-0abd-437e-c775-ef4871fceafa"
      },
      "execution_count": null,
      "outputs": [
        {
          "output_type": "stream",
          "name": "stdout",
          "text": [
            "(400, 2)\n",
            "(400, 1)\n"
          ]
        }
      ]
    },
    {
      "cell_type": "code",
      "source": [
        "!pip install chart_studio"
      ],
      "metadata": {
        "id": "MG9BSf3k17fE",
        "colab": {
          "base_uri": "https://localhost:8080/"
        },
        "outputId": "ba5a6dac-f3c0-43fb-8b30-2b9c95ec8f25"
      },
      "execution_count": null,
      "outputs": [
        {
          "output_type": "stream",
          "name": "stdout",
          "text": [
            "Looking in indexes: https://pypi.org/simple, https://us-python.pkg.dev/colab-wheels/public/simple/\n",
            "Collecting chart_studio\n",
            "  Downloading chart_studio-1.1.0-py3-none-any.whl (64 kB)\n",
            "\u001b[K     |████████████████████████████████| 64 kB 3.0 MB/s \n",
            "\u001b[?25hRequirement already satisfied: plotly in /usr/local/lib/python3.7/dist-packages (from chart_studio) (5.5.0)\n",
            "Collecting retrying>=1.3.3\n",
            "  Downloading retrying-1.3.3.tar.gz (10 kB)\n",
            "Requirement already satisfied: requests in /usr/local/lib/python3.7/dist-packages (from chart_studio) (2.23.0)\n",
            "Requirement already satisfied: six in /usr/local/lib/python3.7/dist-packages (from chart_studio) (1.15.0)\n",
            "Requirement already satisfied: tenacity>=6.2.0 in /usr/local/lib/python3.7/dist-packages (from plotly->chart_studio) (8.0.1)\n",
            "Requirement already satisfied: chardet<4,>=3.0.2 in /usr/local/lib/python3.7/dist-packages (from requests->chart_studio) (3.0.4)\n",
            "Requirement already satisfied: idna<3,>=2.5 in /usr/local/lib/python3.7/dist-packages (from requests->chart_studio) (2.10)\n",
            "Requirement already satisfied: urllib3!=1.25.0,!=1.25.1,<1.26,>=1.21.1 in /usr/local/lib/python3.7/dist-packages (from requests->chart_studio) (1.24.3)\n",
            "Requirement already satisfied: certifi>=2017.4.17 in /usr/local/lib/python3.7/dist-packages (from requests->chart_studio) (2022.6.15)\n",
            "Building wheels for collected packages: retrying\n",
            "  Building wheel for retrying (setup.py) ... \u001b[?25l\u001b[?25hdone\n",
            "  Created wheel for retrying: filename=retrying-1.3.3-py3-none-any.whl size=11447 sha256=9b5beeb0405c57bf9f9d7f64fc8932f1a5ad41ba3cd7155228605698bf102421\n",
            "  Stored in directory: /root/.cache/pip/wheels/f9/8d/8d/f6af3f7f9eea3553bc2fe6d53e4b287dad18b06a861ac56ddf\n",
            "Successfully built retrying\n",
            "Installing collected packages: retrying, chart-studio\n",
            "Successfully installed chart-studio-1.1.0 retrying-1.3.3\n"
          ]
        }
      ]
    },
    {
      "cell_type": "code",
      "source": [
        "# import the require module for data visualization\n",
        "import chart_studio.plotly as py\n",
        "import plotly.graph_objects as go \n",
        "import plotly.offline as pyoff "
      ],
      "metadata": {
        "id": "yk_4ygim1Jka"
      },
      "execution_count": null,
      "outputs": []
    },
    {
      "cell_type": "code",
      "source": [
        "# counting the total output data from purchased column\n",
        "y_target = dataset['Purchased'].value_counts().reset_index()\n",
        "print(y_target)"
      ],
      "metadata": {
        "id": "Q3Es9Mso2Fv9",
        "outputId": "c62c5589-21eb-44c3-efe4-58052a203c47",
        "colab": {
          "base_uri": "https://localhost:8080/"
        }
      },
      "execution_count": null,
      "outputs": [
        {
          "output_type": "stream",
          "name": "stdout",
          "text": [
            "   index  Purchased\n",
            "0      0        257\n",
            "1      1        143\n"
          ]
        }
      ]
    },
    {
      "cell_type": "code",
      "source": [
        "# dividing the output class into two sections\n",
        "target_class = go.Bar(\n",
        "    name = \"Target Balance\",\n",
        "    x = ['Not-Purchased', 'Purchased'],\n",
        "    y = y_target[\"Purchased\"]\n",
        ")\n",
        "\n",
        "# plotting the output class\n",
        "fig = go.Figure(target_class)\n",
        "pyoff.iplot(fig)"
      ],
      "metadata": {
        "id": "Pz-1-EJv2iMG",
        "colab": {
          "base_uri": "https://localhost:8080/",
          "height": 542
        },
        "outputId": "b193543e-066f-4d4d-939a-cda862092558"
      },
      "execution_count": null,
      "outputs": [
        {
          "output_type": "display_data",
          "data": {
            "text/html": [
              "<html>\n",
              "<head><meta charset=\"utf-8\" /></head>\n",
              "<body>\n",
              "    <div>            <script src=\"https://cdnjs.cloudflare.com/ajax/libs/mathjax/2.7.5/MathJax.js?config=TeX-AMS-MML_SVG\"></script><script type=\"text/javascript\">if (window.MathJax) {MathJax.Hub.Config({SVG: {font: \"STIX-Web\"}});}</script>                <script type=\"text/javascript\">window.PlotlyConfig = {MathJaxConfig: 'local'};</script>\n",
              "        <script src=\"https://cdn.plot.ly/plotly-2.8.3.min.js\"></script>                <div id=\"0340742e-fa5a-4b28-bba6-411ff31c2fe8\" class=\"plotly-graph-div\" style=\"height:525px; width:100%;\"></div>            <script type=\"text/javascript\">                                    window.PLOTLYENV=window.PLOTLYENV || {};                                    if (document.getElementById(\"0340742e-fa5a-4b28-bba6-411ff31c2fe8\")) {                    Plotly.newPlot(                        \"0340742e-fa5a-4b28-bba6-411ff31c2fe8\",                        [{\"name\":\"Target Balance\",\"x\":[\"Not-Purchased\",\"Purchased\"],\"y\":[257,143],\"type\":\"bar\"}],                        {\"template\":{\"data\":{\"barpolar\":[{\"marker\":{\"line\":{\"color\":\"#E5ECF6\",\"width\":0.5},\"pattern\":{\"fillmode\":\"overlay\",\"size\":10,\"solidity\":0.2}},\"type\":\"barpolar\"}],\"bar\":[{\"error_x\":{\"color\":\"#2a3f5f\"},\"error_y\":{\"color\":\"#2a3f5f\"},\"marker\":{\"line\":{\"color\":\"#E5ECF6\",\"width\":0.5},\"pattern\":{\"fillmode\":\"overlay\",\"size\":10,\"solidity\":0.2}},\"type\":\"bar\"}],\"carpet\":[{\"aaxis\":{\"endlinecolor\":\"#2a3f5f\",\"gridcolor\":\"white\",\"linecolor\":\"white\",\"minorgridcolor\":\"white\",\"startlinecolor\":\"#2a3f5f\"},\"baxis\":{\"endlinecolor\":\"#2a3f5f\",\"gridcolor\":\"white\",\"linecolor\":\"white\",\"minorgridcolor\":\"white\",\"startlinecolor\":\"#2a3f5f\"},\"type\":\"carpet\"}],\"choropleth\":[{\"colorbar\":{\"outlinewidth\":0,\"ticks\":\"\"},\"type\":\"choropleth\"}],\"contourcarpet\":[{\"colorbar\":{\"outlinewidth\":0,\"ticks\":\"\"},\"type\":\"contourcarpet\"}],\"contour\":[{\"colorbar\":{\"outlinewidth\":0,\"ticks\":\"\"},\"colorscale\":[[0.0,\"#0d0887\"],[0.1111111111111111,\"#46039f\"],[0.2222222222222222,\"#7201a8\"],[0.3333333333333333,\"#9c179e\"],[0.4444444444444444,\"#bd3786\"],[0.5555555555555556,\"#d8576b\"],[0.6666666666666666,\"#ed7953\"],[0.7777777777777778,\"#fb9f3a\"],[0.8888888888888888,\"#fdca26\"],[1.0,\"#f0f921\"]],\"type\":\"contour\"}],\"heatmapgl\":[{\"colorbar\":{\"outlinewidth\":0,\"ticks\":\"\"},\"colorscale\":[[0.0,\"#0d0887\"],[0.1111111111111111,\"#46039f\"],[0.2222222222222222,\"#7201a8\"],[0.3333333333333333,\"#9c179e\"],[0.4444444444444444,\"#bd3786\"],[0.5555555555555556,\"#d8576b\"],[0.6666666666666666,\"#ed7953\"],[0.7777777777777778,\"#fb9f3a\"],[0.8888888888888888,\"#fdca26\"],[1.0,\"#f0f921\"]],\"type\":\"heatmapgl\"}],\"heatmap\":[{\"colorbar\":{\"outlinewidth\":0,\"ticks\":\"\"},\"colorscale\":[[0.0,\"#0d0887\"],[0.1111111111111111,\"#46039f\"],[0.2222222222222222,\"#7201a8\"],[0.3333333333333333,\"#9c179e\"],[0.4444444444444444,\"#bd3786\"],[0.5555555555555556,\"#d8576b\"],[0.6666666666666666,\"#ed7953\"],[0.7777777777777778,\"#fb9f3a\"],[0.8888888888888888,\"#fdca26\"],[1.0,\"#f0f921\"]],\"type\":\"heatmap\"}],\"histogram2dcontour\":[{\"colorbar\":{\"outlinewidth\":0,\"ticks\":\"\"},\"colorscale\":[[0.0,\"#0d0887\"],[0.1111111111111111,\"#46039f\"],[0.2222222222222222,\"#7201a8\"],[0.3333333333333333,\"#9c179e\"],[0.4444444444444444,\"#bd3786\"],[0.5555555555555556,\"#d8576b\"],[0.6666666666666666,\"#ed7953\"],[0.7777777777777778,\"#fb9f3a\"],[0.8888888888888888,\"#fdca26\"],[1.0,\"#f0f921\"]],\"type\":\"histogram2dcontour\"}],\"histogram2d\":[{\"colorbar\":{\"outlinewidth\":0,\"ticks\":\"\"},\"colorscale\":[[0.0,\"#0d0887\"],[0.1111111111111111,\"#46039f\"],[0.2222222222222222,\"#7201a8\"],[0.3333333333333333,\"#9c179e\"],[0.4444444444444444,\"#bd3786\"],[0.5555555555555556,\"#d8576b\"],[0.6666666666666666,\"#ed7953\"],[0.7777777777777778,\"#fb9f3a\"],[0.8888888888888888,\"#fdca26\"],[1.0,\"#f0f921\"]],\"type\":\"histogram2d\"}],\"histogram\":[{\"marker\":{\"pattern\":{\"fillmode\":\"overlay\",\"size\":10,\"solidity\":0.2}},\"type\":\"histogram\"}],\"mesh3d\":[{\"colorbar\":{\"outlinewidth\":0,\"ticks\":\"\"},\"type\":\"mesh3d\"}],\"parcoords\":[{\"line\":{\"colorbar\":{\"outlinewidth\":0,\"ticks\":\"\"}},\"type\":\"parcoords\"}],\"pie\":[{\"automargin\":true,\"type\":\"pie\"}],\"scatter3d\":[{\"line\":{\"colorbar\":{\"outlinewidth\":0,\"ticks\":\"\"}},\"marker\":{\"colorbar\":{\"outlinewidth\":0,\"ticks\":\"\"}},\"type\":\"scatter3d\"}],\"scattercarpet\":[{\"marker\":{\"colorbar\":{\"outlinewidth\":0,\"ticks\":\"\"}},\"type\":\"scattercarpet\"}],\"scattergeo\":[{\"marker\":{\"colorbar\":{\"outlinewidth\":0,\"ticks\":\"\"}},\"type\":\"scattergeo\"}],\"scattergl\":[{\"marker\":{\"colorbar\":{\"outlinewidth\":0,\"ticks\":\"\"}},\"type\":\"scattergl\"}],\"scattermapbox\":[{\"marker\":{\"colorbar\":{\"outlinewidth\":0,\"ticks\":\"\"}},\"type\":\"scattermapbox\"}],\"scatterpolargl\":[{\"marker\":{\"colorbar\":{\"outlinewidth\":0,\"ticks\":\"\"}},\"type\":\"scatterpolargl\"}],\"scatterpolar\":[{\"marker\":{\"colorbar\":{\"outlinewidth\":0,\"ticks\":\"\"}},\"type\":\"scatterpolar\"}],\"scatter\":[{\"marker\":{\"colorbar\":{\"outlinewidth\":0,\"ticks\":\"\"}},\"type\":\"scatter\"}],\"scatterternary\":[{\"marker\":{\"colorbar\":{\"outlinewidth\":0,\"ticks\":\"\"}},\"type\":\"scatterternary\"}],\"surface\":[{\"colorbar\":{\"outlinewidth\":0,\"ticks\":\"\"},\"colorscale\":[[0.0,\"#0d0887\"],[0.1111111111111111,\"#46039f\"],[0.2222222222222222,\"#7201a8\"],[0.3333333333333333,\"#9c179e\"],[0.4444444444444444,\"#bd3786\"],[0.5555555555555556,\"#d8576b\"],[0.6666666666666666,\"#ed7953\"],[0.7777777777777778,\"#fb9f3a\"],[0.8888888888888888,\"#fdca26\"],[1.0,\"#f0f921\"]],\"type\":\"surface\"}],\"table\":[{\"cells\":{\"fill\":{\"color\":\"#EBF0F8\"},\"line\":{\"color\":\"white\"}},\"header\":{\"fill\":{\"color\":\"#C8D4E3\"},\"line\":{\"color\":\"white\"}},\"type\":\"table\"}]},\"layout\":{\"annotationdefaults\":{\"arrowcolor\":\"#2a3f5f\",\"arrowhead\":0,\"arrowwidth\":1},\"autotypenumbers\":\"strict\",\"coloraxis\":{\"colorbar\":{\"outlinewidth\":0,\"ticks\":\"\"}},\"colorscale\":{\"diverging\":[[0,\"#8e0152\"],[0.1,\"#c51b7d\"],[0.2,\"#de77ae\"],[0.3,\"#f1b6da\"],[0.4,\"#fde0ef\"],[0.5,\"#f7f7f7\"],[0.6,\"#e6f5d0\"],[0.7,\"#b8e186\"],[0.8,\"#7fbc41\"],[0.9,\"#4d9221\"],[1,\"#276419\"]],\"sequential\":[[0.0,\"#0d0887\"],[0.1111111111111111,\"#46039f\"],[0.2222222222222222,\"#7201a8\"],[0.3333333333333333,\"#9c179e\"],[0.4444444444444444,\"#bd3786\"],[0.5555555555555556,\"#d8576b\"],[0.6666666666666666,\"#ed7953\"],[0.7777777777777778,\"#fb9f3a\"],[0.8888888888888888,\"#fdca26\"],[1.0,\"#f0f921\"]],\"sequentialminus\":[[0.0,\"#0d0887\"],[0.1111111111111111,\"#46039f\"],[0.2222222222222222,\"#7201a8\"],[0.3333333333333333,\"#9c179e\"],[0.4444444444444444,\"#bd3786\"],[0.5555555555555556,\"#d8576b\"],[0.6666666666666666,\"#ed7953\"],[0.7777777777777778,\"#fb9f3a\"],[0.8888888888888888,\"#fdca26\"],[1.0,\"#f0f921\"]]},\"colorway\":[\"#636efa\",\"#EF553B\",\"#00cc96\",\"#ab63fa\",\"#FFA15A\",\"#19d3f3\",\"#FF6692\",\"#B6E880\",\"#FF97FF\",\"#FECB52\"],\"font\":{\"color\":\"#2a3f5f\"},\"geo\":{\"bgcolor\":\"white\",\"lakecolor\":\"white\",\"landcolor\":\"#E5ECF6\",\"showlakes\":true,\"showland\":true,\"subunitcolor\":\"white\"},\"hoverlabel\":{\"align\":\"left\"},\"hovermode\":\"closest\",\"mapbox\":{\"style\":\"light\"},\"paper_bgcolor\":\"white\",\"plot_bgcolor\":\"#E5ECF6\",\"polar\":{\"angularaxis\":{\"gridcolor\":\"white\",\"linecolor\":\"white\",\"ticks\":\"\"},\"bgcolor\":\"#E5ECF6\",\"radialaxis\":{\"gridcolor\":\"white\",\"linecolor\":\"white\",\"ticks\":\"\"}},\"scene\":{\"xaxis\":{\"backgroundcolor\":\"#E5ECF6\",\"gridcolor\":\"white\",\"gridwidth\":2,\"linecolor\":\"white\",\"showbackground\":true,\"ticks\":\"\",\"zerolinecolor\":\"white\"},\"yaxis\":{\"backgroundcolor\":\"#E5ECF6\",\"gridcolor\":\"white\",\"gridwidth\":2,\"linecolor\":\"white\",\"showbackground\":true,\"ticks\":\"\",\"zerolinecolor\":\"white\"},\"zaxis\":{\"backgroundcolor\":\"#E5ECF6\",\"gridcolor\":\"white\",\"gridwidth\":2,\"linecolor\":\"white\",\"showbackground\":true,\"ticks\":\"\",\"zerolinecolor\":\"white\"}},\"shapedefaults\":{\"line\":{\"color\":\"#2a3f5f\"}},\"ternary\":{\"aaxis\":{\"gridcolor\":\"white\",\"linecolor\":\"white\",\"ticks\":\"\"},\"baxis\":{\"gridcolor\":\"white\",\"linecolor\":\"white\",\"ticks\":\"\"},\"bgcolor\":\"#E5ECF6\",\"caxis\":{\"gridcolor\":\"white\",\"linecolor\":\"white\",\"ticks\":\"\"}},\"title\":{\"x\":0.05},\"xaxis\":{\"automargin\":true,\"gridcolor\":\"white\",\"linecolor\":\"white\",\"ticks\":\"\",\"title\":{\"standoff\":15},\"zerolinecolor\":\"white\",\"zerolinewidth\":2},\"yaxis\":{\"automargin\":true,\"gridcolor\":\"white\",\"linecolor\":\"white\",\"ticks\":\"\",\"title\":{\"standoff\":15},\"zerolinecolor\":\"white\",\"zerolinewidth\":2}}}},                        {\"responsive\": true}                    ).then(function(){\n",
              "                            \n",
              "var gd = document.getElementById('0340742e-fa5a-4b28-bba6-411ff31c2fe8');\n",
              "var x = new MutationObserver(function (mutations, observer) {{\n",
              "        var display = window.getComputedStyle(gd).display;\n",
              "        if (!display || display === 'none') {{\n",
              "            console.log([gd, 'removed!']);\n",
              "            Plotly.purge(gd);\n",
              "            observer.disconnect();\n",
              "        }}\n",
              "}});\n",
              "\n",
              "// Listen for the removal of the full notebook cells\n",
              "var notebookContainer = gd.closest('#notebook-container');\n",
              "if (notebookContainer) {{\n",
              "    x.observe(notebookContainer, {childList: true});\n",
              "}}\n",
              "\n",
              "// Listen for the clearing of the current output cell\n",
              "var outputEl = gd.closest('.output');\n",
              "if (outputEl) {{\n",
              "    x.observe(outputEl, {childList: true});\n",
              "}}\n",
              "\n",
              "                        })                };                            </script>        </div>\n",
              "</body>\n",
              "</html>"
            ]
          },
          "metadata": {}
        }
      ]
    },
    {
      "cell_type": "code",
      "source": [
        "# splitting data into training and testing \n",
        "\n",
        "from sklearn.model_selection import train_test_split\n",
        "\n",
        "x_train, x_test, y_train, y_test = train_test_split(x,y,test_size= 0.25, random_state = 1)\n",
        "\n",
        "print(x_train.shape)\n",
        "print(x_test.shape)"
      ],
      "metadata": {
        "colab": {
          "base_uri": "https://localhost:8080/"
        },
        "id": "nFgqQqkf3jUY",
        "outputId": "1be150b8-4768-4aea-89f0-a3354e198fe6"
      },
      "execution_count": null,
      "outputs": [
        {
          "output_type": "stream",
          "name": "stdout",
          "text": [
            "(300, 2)\n",
            "(100, 2)\n"
          ]
        }
      ]
    },
    {
      "cell_type": "code",
      "source": [
        "# scaling the dataset \n",
        " \n",
        "from sklearn.preprocessing import StandardScaler\n",
        "\n",
        "# scaling the input data \n",
        "sc_x = StandardScaler()\n",
        "x_train = sc_x.fit_transform(x_train)\n",
        "x_test = sc_x.fit_transform(x_test)\n",
        "\n",
        "print(x_train)\n",
        "print(x_test)"
      ],
      "metadata": {
        "id": "Lr4FPfqn4V8D",
        "outputId": "b395a4aa-3bff-471e-b57f-5face983a84e",
        "colab": {
          "base_uri": "https://localhost:8080/"
        }
      },
      "execution_count": null,
      "outputs": [
        {
          "output_type": "stream",
          "name": "stdout",
          "text": [
            "[[-1.68062015e+00 -5.92416706e-01]\n",
            " [ 8.69241193e-01  5.63566526e-01]\n",
            " [-6.01832657e-01 -1.03702564e+00]\n",
            " [ 9.67312783e-01 -1.15558802e+00]\n",
            " [-2.09546297e-01 -5.62776110e-01]\n",
            " [ 1.82740063e-01  8.00691292e-01]\n",
            " [-4.05689477e-01  1.30458142e+00]\n",
            " [ 1.16345596e+00  5.04285335e-01]\n",
            " [ 7.71169603e-01  2.96801165e-01]\n",
            " [ 6.73098013e-01 -8.88822663e-01]\n",
            " [ 3.78883243e-01 -2.96010749e-01]\n",
            " [ 4.76954833e-01 -4.73854323e-01]\n",
            " [-2.09546297e-01  1.18957591e-01]\n",
            " [ 3.78883243e-01  8.93169951e-02]\n",
            " [-9.94119017e-01  8.00691292e-01]\n",
            " [-6.99904247e-01  1.39350321e+00]\n",
            " [ 3.78883243e-01 -5.03494919e-01]\n",
            " [ 3.78883243e-01 -5.03494919e-01]\n",
            " [-1.68062015e+00  3.85722952e-01]\n",
            " [ 8.69241193e-01 -8.29541472e-01]\n",
            " [-9.94119017e-01 -1.12594743e+00]\n",
            " [-2.09546297e-01  5.96763994e-02]\n",
            " [ 1.16345596e+00 -1.21486922e+00]\n",
            " [-2.09546297e-01  6.52488313e-01]\n",
            " [-1.34031173e-02  1.78238782e-01]\n",
            " [-5.03761067e-01  1.42314380e+00]\n",
            " [-1.11474707e-01  1.78238782e-01]\n",
            " [-1.68062015e+00  5.04285335e-01]\n",
            " [ 8.46684727e-02 -5.62776110e-01]\n",
            " [ 1.16345596e+00 -9.77744450e-01]\n",
            " [ 2.80811653e-01 -1.18167175e-01]\n",
            " [-1.34031173e-02  2.37519974e-01]\n",
            " [ 2.24224345e+00 -6.81338493e-01]\n",
            " [ 1.06538437e+00  2.04559631e+00]\n",
            " [ 2.80811653e-01  5.96763994e-02]\n",
            " [-1.11474707e-01 -1.77448366e-01]\n",
            " [-1.09219061e+00  3.56082356e-01]\n",
            " [-4.05689477e-01 -1.12594743e+00]\n",
            " [ 3.78883243e-01 -5.33135515e-01]\n",
            " [ 8.69241193e-01  1.48598186e-01]\n",
            " [-1.87676333e+00  3.85722952e-01]\n",
            " [-1.34031173e-02 -1.06666624e+00]\n",
            " [-2.09546297e-01 -4.73854323e-01]\n",
            " [-8.96047427e-01 -2.96010749e-01]\n",
            " [-1.34031173e-02  5.96763994e-02]\n",
            " [-1.87676333e+00 -7.40619685e-01]\n",
            " [ 8.46684727e-02 -2.36729558e-01]\n",
            " [-2.09546297e-01 -1.18167175e-01]\n",
            " [-6.01832657e-01 -8.85265792e-02]\n",
            " [ 9.67312783e-01 -1.30379100e+00]\n",
            " [ 4.76954833e-01  1.03781606e+00]\n",
            " [-1.77869174e+00 -1.48163458e+00]\n",
            " [-1.58254856e+00  8.93169951e-02]\n",
            " [-8.96047427e-01 -1.09630683e+00]\n",
            " [ 1.45767073e+00  2.40128346e+00]\n",
            " [ 1.55574232e+00  1.03781606e+00]\n",
            " [-1.19026220e+00  3.26441761e-01]\n",
            " [-1.09219061e+00  8.93169951e-02]\n",
            " [-1.09219061e+00 -1.60019696e+00]\n",
            " [ 2.80811653e-01  2.16415869e+00]\n",
            " [-2.09546297e-01 -9.18463259e-01]\n",
            " [ 1.94802868e+00  1.57134678e+00]\n",
            " [ 3.78883243e-01  5.33925931e-01]\n",
            " [-1.28833379e+00  5.93207122e-01]\n",
            " [-1.34031173e-02 -5.03494919e-01]\n",
            " [-2.09546297e-01  1.15637844e+00]\n",
            " [-5.03761067e-01  9.19253675e-01]\n",
            " [-2.09546297e-01  2.31236167e+00]\n",
            " [-1.77869174e+00 -1.27415041e+00]\n",
            " [ 8.69241193e-01  3.85722952e-01]\n",
            " [ 9.67312783e-01  1.06745665e+00]\n",
            " [ 7.71169603e-01 -7.10979089e-01]\n",
            " [ 8.46684727e-02 -5.33135515e-01]\n",
            " [-1.34031173e-02  7.11769505e-01]\n",
            " [-7.97975837e-01 -7.70260280e-01]\n",
            " [ 3.78883243e-01 -1.15558802e+00]\n",
            " [ 2.80811653e-01 -2.66370153e-01]\n",
            " [-9.94119017e-01  5.63566526e-01]\n",
            " [-9.94119017e-01  6.22847718e-01]\n",
            " [ 1.82740063e-01  5.96763994e-02]\n",
            " [-1.38640538e+00 -1.21486922e+00]\n",
            " [ 1.35959914e+00  2.28272108e+00]\n",
            " [-1.38640538e+00 -1.77448366e-01]\n",
            " [-1.34031173e-02  3.26441761e-01]\n",
            " [ 2.80811653e-01 -6.51697898e-01]\n",
            " [ 1.06538437e+00 -1.18522862e+00]\n",
            " [-2.09546297e-01 -2.96010749e-01]\n",
            " [-1.09219061e+00 -1.15558802e+00]\n",
            " [ 1.82740063e-01  1.09709725e+00]\n",
            " [-8.96047427e-01  4.45004144e-01]\n",
            " [ 2.14417186e+00  2.07879378e-01]\n",
            " [ 2.80811653e-01 -3.55291941e-01]\n",
            " [-2.09546297e-01  8.30331888e-01]\n",
            " [-1.09219061e+00  5.04285335e-01]\n",
            " [ 3.78883243e-01 -1.77448366e-01]\n",
            " [-7.97975837e-01 -6.51697898e-01]\n",
            " [-1.09219061e+00 -1.54091577e+00]\n",
            " [ 2.04610027e+00 -1.36307219e+00]\n",
            " [-6.99904247e-01 -2.07088962e-01]\n",
            " [-1.19026220e+00 -1.06666624e+00]\n",
            " [ 2.14417186e+00 -1.18522862e+00]\n",
            " [-8.96047427e-01 -9.48103855e-01]\n",
            " [ 1.82740063e-01  2.37519974e-01]\n",
            " [ 9.67312783e-01  1.12673784e+00]\n",
            " [ 1.45767073e+00  2.04559631e+00]\n",
            " [-7.97975837e-01 -7.70260280e-01]\n",
            " [-9.94119017e-01  2.01595572e+00]\n",
            " [-1.28833379e+00 -4.14573132e-01]\n",
            " [ 2.80811653e-01  8.93169951e-02]\n",
            " [-1.58254856e+00 -1.57055636e+00]\n",
            " [ 1.94802868e+00 -1.27415041e+00]\n",
            " [-6.99904247e-01  1.95667452e+00]\n",
            " [ 1.06538437e+00  1.48242499e+00]\n",
            " [ 2.80811653e-01 -3.55291941e-01]\n",
            " [-2.09546297e-01  1.78238782e-01]\n",
            " [-8.96047427e-01 -7.40619685e-01]\n",
            " [-1.34031173e-02  1.48598186e-01]\n",
            " [-2.09546297e-01 -1.24450981e+00]\n",
            " [-1.34031173e-02  2.96801165e-01]\n",
            " [-5.03761067e-01  1.51206559e+00]\n",
            " [-7.97975837e-01  1.78238782e-01]\n",
            " [-6.99904247e-01 -1.54091577e+00]\n",
            " [-1.19026220e+00  2.96801165e-01]\n",
            " [ 2.80811653e-01  1.12673784e+00]\n",
            " [-1.28833379e+00 -1.48163458e+00]\n",
            " [ 3.78883243e-01  8.93169951e-02]\n",
            " [ 8.46684727e-02 -2.36729558e-01]\n",
            " [-1.11474707e-01  2.22343989e+00]\n",
            " [ 4.76954833e-01 -1.47807771e-01]\n",
            " [ 1.06538437e+00 -1.06666624e+00]\n",
            " [ 1.06538437e+00 -1.15558802e+00]\n",
            " [-1.38640538e+00 -1.45199398e+00]\n",
            " [ 1.75188550e+00  1.80847155e+00]\n",
            " [-7.97975837e-01  2.34200227e+00]\n",
            " [ 4.76954833e-01 -1.18167175e-01]\n",
            " [-9.94119017e-01 -4.44213728e-01]\n",
            " [-1.34031173e-02 -4.14573132e-01]\n",
            " [-1.19026220e+00 -1.39271279e+00]\n",
            " [ 2.14417186e+00  2.19379929e+00]\n",
            " [ 4.76954833e-01 -4.44213728e-01]\n",
            " [-9.94119017e-01 -1.54091577e+00]\n",
            " [ 9.67312783e-01 -5.92416706e-01]\n",
            " [-8.96047427e-01 -2.96010749e-01]\n",
            " [-4.05689477e-01  3.95207943e-04]\n",
            " [-6.01832657e-01 -2.92453878e-02]\n",
            " [-2.09546297e-01 -1.36307219e+00]\n",
            " [-2.09546297e-01 -1.39271279e+00]\n",
            " [ 1.94802868e+00 -1.06666624e+00]\n",
            " [-6.99904247e-01  1.12673784e+00]\n",
            " [ 8.69241193e-01 -1.36307219e+00]\n",
            " [ 3.78883243e-01 -2.66370153e-01]\n",
            " [-4.05689477e-01 -8.29541472e-01]\n",
            " [-4.05689477e-01 -2.66370153e-01]\n",
            " [ 9.67312783e-01 -6.51697898e-01]\n",
            " [-8.96047427e-01 -4.14573132e-01]\n",
            " [ 7.71169603e-01 -1.09630683e+00]\n",
            " [-2.09546297e-01  1.78238782e-01]\n",
            " [ 2.14417186e+00 -7.99900876e-01]\n",
            " [ 9.67312783e-01 -5.62776110e-01]\n",
            " [ 9.67312783e-01 -5.33135515e-01]\n",
            " [-2.09546297e-01  2.96801165e-01]\n",
            " [ 1.82740063e-01 -7.99900876e-01]\n",
            " [ 2.80811653e-01  2.67160569e-01]\n",
            " [-1.38640538e+00 -6.22057302e-01]\n",
            " [ 1.82740063e-01  1.78238782e-01]\n",
            " [-2.09546297e-01 -3.55291941e-01]\n",
            " [ 1.75188550e+00 -8.88822663e-01]\n",
            " [-6.01832657e-01  5.96763994e-02]\n",
            " [-8.96047427e-01  1.60098738e+00]\n",
            " [ 4.76954833e-01  3.26441761e-01]\n",
            " [ 2.80811653e-01 -2.96010749e-01]\n",
            " [ 1.06538437e+00  1.48598186e-01]\n",
            " [-1.58254856e+00  5.63566526e-01]\n",
            " [ 1.55574232e+00  8.93169951e-02]\n",
            " [-9.94119017e-01 -3.25651345e-01]\n",
            " [-2.09546297e-01 -6.51697898e-01]\n",
            " [-8.96047427e-01  5.93207122e-01]\n",
            " [-1.09219061e+00  3.26441761e-01]\n",
            " [-5.03761067e-01  1.42314380e+00]\n",
            " [ 4.76954833e-01  1.78238782e-01]\n",
            " [-4.05689477e-01  2.37164286e+00]\n",
            " [ 3.78883243e-01  3.26441761e-01]\n",
            " [-6.01832657e-01 -3.25651345e-01]\n",
            " [ 1.82740063e-01  1.92703393e+00]\n",
            " [-9.94119017e-01 -1.45199398e+00]\n",
            " [-7.97975837e-01  4.15363548e-01]\n",
            " [-1.77869174e+00  3.00358036e-02]\n",
            " [-1.77869174e+00  4.74644739e-01]\n",
            " [-7.97975837e-01 -2.36729558e-01]\n",
            " [ 1.82740063e-01  1.92703393e+00]\n",
            " [-6.01832657e-01  2.07879378e-01]\n",
            " [ 3.78883243e-01  8.93169951e-02]\n",
            " [-1.09219061e+00  3.26441761e-01]\n",
            " [ 2.80811653e-01 -2.36729558e-01]\n",
            " [-2.09546297e-01 -1.30379100e+00]\n",
            " [ 1.06538437e+00  8.00691292e-01]\n",
            " [ 4.76954833e-01  2.37164286e+00]\n",
            " [-8.96047427e-01  2.96801165e-01]\n",
            " [ 1.35959914e+00  1.92703393e+00]\n",
            " [-4.05689477e-01 -1.21486922e+00]\n",
            " [ 4.76954833e-01 -4.44213728e-01]\n",
            " [ 7.71169603e-01 -1.39271279e+00]\n",
            " [-1.34031173e-02 -3.55291941e-01]\n",
            " [-3.07617887e-01  1.27494082e+00]\n",
            " [-2.09546297e-01 -8.88822663e-01]\n",
            " [-1.48447697e+00 -1.24450981e+00]\n",
            " [-2.09546297e-01  8.93169951e-02]\n",
            " [ 1.82740063e-01 -2.96010749e-01]\n",
            " [-1.68062015e+00  1.48598186e-01]\n",
            " [ 8.69241193e-01 -1.09630683e+00]\n",
            " [-1.09219061e+00 -7.70260280e-01]\n",
            " [-7.97975837e-01  4.15363548e-01]\n",
            " [ 1.75188550e+00  1.66026857e+00]\n",
            " [-1.34031173e-02  2.28272108e+00]\n",
            " [ 7.71169603e-01  1.83811214e+00]\n",
            " [-4.05689477e-01 -7.70260280e-01]\n",
            " [ 3.78883243e-01 -7.10979089e-01]\n",
            " [ 4.76954833e-01  2.96801165e-01]\n",
            " [-1.34031173e-02  2.01595572e+00]\n",
            " [-1.28833379e+00  4.45004144e-01]\n",
            " [-5.03761067e-01 -1.51127517e+00]\n",
            " [ 1.84995709e+00  1.03781606e+00]\n",
            " [ 1.16345596e+00 -8.88822663e-01]\n",
            " [-8.96047427e-01  4.74644739e-01]\n",
            " [ 1.55574232e+00  2.19379929e+00]\n",
            " [-6.99904247e-01  5.93207122e-01]\n",
            " [ 1.94802868e+00 -2.66370153e-01]\n",
            " [ 2.80811653e-01  1.78238782e-01]\n",
            " [ 3.78883243e-01  2.96801165e-01]\n",
            " [-1.68062015e+00  3.85722952e-01]\n",
            " [-1.48447697e+00 -4.14573132e-01]\n",
            " [-2.09546297e-01  5.63566526e-01]\n",
            " [ 1.65381391e+00  3.00358036e-02]\n",
            " [-6.01832657e-01 -1.60019696e+00]\n",
            " [ 1.26152755e+00 -9.77744450e-01]\n",
            " [ 4.76954833e-01 -1.18167175e-01]\n",
            " [-3.07617887e-01 -7.70260280e-01]\n",
            " [ 4.76954833e-01  1.15637844e+00]\n",
            " [ 1.65381391e+00 -1.27415041e+00]\n",
            " [-1.77869174e+00 -1.42235339e+00]\n",
            " [-1.11474707e-01 -5.62776110e-01]\n",
            " [-1.34031173e-02  3.00358036e-02]\n",
            " [-1.11474707e-01  1.68990916e+00]\n",
            " [ 9.67312783e-01 -1.45199398e+00]\n",
            " [-6.99904247e-01  2.96801165e-01]\n",
            " [ 2.14417186e+00  4.15363548e-01]\n",
            " [-7.97975837e-01  3.26441761e-01]\n",
            " [ 5.75026423e-01  1.27494082e+00]\n",
            " [ 8.46684727e-02  3.26441761e-01]\n",
            " [ 2.04610027e+00  2.22343989e+00]\n",
            " [-1.11474707e-01  1.66026857e+00]\n",
            " [ 1.16345596e+00 -1.21486922e+00]\n",
            " [-1.87676333e+00 -5.03494919e-01]\n",
            " [-6.99904247e-01 -1.60019696e+00]\n",
            " [ 2.14417186e+00  5.63566526e-01]\n",
            " [-9.94119017e-01 -3.55291941e-01]\n",
            " [ 8.46684727e-02  5.96763994e-02]\n",
            " [-6.01832657e-01  5.93207122e-01]\n",
            " [ 9.67312783e-01 -1.03702564e+00]\n",
            " [-6.01832657e-01  1.48598186e-01]\n",
            " [-1.34031173e-02  8.93169951e-02]\n",
            " [ 2.80811653e-01 -3.55291941e-01]\n",
            " [ 2.14417186e+00  1.80847155e+00]\n",
            " [ 1.16345596e+00 -1.18167175e-01]\n",
            " [ 1.06538437e+00  6.22847718e-01]\n",
            " [ 8.69241193e-01 -1.39271279e+00]\n",
            " [ 1.65381391e+00  1.03781606e+00]\n",
            " [-2.09546297e-01 -1.45199398e+00]\n",
            " [ 1.16345596e+00  2.13451810e+00]\n",
            " [ 1.06538437e+00 -8.29541472e-01]\n",
            " [-2.09546297e-01 -4.14573132e-01]\n",
            " [-1.11474707e-01 -2.66370153e-01]\n",
            " [-5.03761067e-01  2.40128346e+00]\n",
            " [-1.87676333e+00 -2.92453878e-02]\n",
            " [-1.28833379e+00 -4.14573132e-01]\n",
            " [ 4.76954833e-01  6.22847718e-01]\n",
            " [ 8.46684727e-02 -2.96010749e-01]\n",
            " [ 2.24224345e+00  1.15637844e+00]\n",
            " [-1.48447697e+00 -1.77448366e-01]\n",
            " [-1.28833379e+00 -1.09630683e+00]\n",
            " [ 8.69241193e-01 -2.96010749e-01]\n",
            " [ 1.06538437e+00  1.92703393e+00]\n",
            " [ 3.78883243e-01  8.93169951e-02]\n",
            " [ 1.26152755e+00 -7.40619685e-01]\n",
            " [ 8.46684727e-02  5.96763994e-02]\n",
            " [-1.28833379e+00 -1.36307219e+00]\n",
            " [-2.09546297e-01 -2.36729558e-01]\n",
            " [-1.34031173e-02  3.26441761e-01]\n",
            " [-1.28833379e+00 -1.24450981e+00]\n",
            " [-1.09219061e+00  4.45004144e-01]\n",
            " [-3.07617887e-01 -1.30379100e+00]\n",
            " [-1.11474707e-01 -4.44213728e-01]\n",
            " [-1.58254856e+00 -2.92453878e-02]\n",
            " [ 3.78883243e-01  5.96763994e-02]\n",
            " [ 2.24224345e+00 -7.99900876e-01]\n",
            " [ 1.45767073e+00  6.22847718e-01]\n",
            " [-1.68062015e+00 -1.36307219e+00]\n",
            " [ 1.35959914e+00 -1.36307219e+00]\n",
            " [ 8.69241193e-01  2.96801165e-01]\n",
            " [-6.99904247e-01 -5.92416706e-01]]\n",
            "[[-2.89053269e-01 -1.11810479e+00]\n",
            " [-1.89100270e-02 -3.15568669e-01]\n",
            " [-2.89053269e-01  1.31816558e+00]\n",
            " [-1.89100270e-02  1.43281360e+00]\n",
            " [-1.18953074e+00  1.31816558e+00]\n",
            " [-1.08957774e-01 -2.00920651e-01]\n",
            " [-1.72981723e+00 -1.03211878e+00]\n",
            " [ 8.81567447e-01  4.86967455e-01]\n",
            " [-7.39292006e-01 -1.54803486e+00]\n",
            " [ 7.91519700e-01  1.97739168e+00]\n",
            " [-4.69148764e-01 -2.86620044e-04]\n",
            " [-1.89100270e-02  2.83753844e-02]\n",
            " [-3.79101017e-01 -2.86620044e-04]\n",
            " [ 7.91519700e-01  1.69077164e+00]\n",
            " [ 1.24175844e+00  2.86333424e-01]\n",
            " [ 1.51190168e+00  1.74809565e+00]\n",
            " [ 1.87209267e+00  3.14995428e-01]\n",
            " [-1.09948300e+00 -4.01554682e-01]\n",
            " [-1.00943525e+00  4.29643446e-01]\n",
            " [ 1.87209267e+00  8.59573512e-01]\n",
            " [ 7.11377205e-02  8.56993932e-02]\n",
            " [ 9.71615195e-01  4.58305450e-01]\n",
            " [ 4.31328710e-01  1.92006768e+00]\n",
            " [ 7.01471952e-01 -8.31484748e-01]\n",
            " [ 5.21376458e-01 -1.31873882e+00]\n",
            " [-1.18953074e+00 -1.63402087e+00]\n",
            " [ 1.69199717e+00 -7.16836730e-01]\n",
            " [ 8.81567447e-01  5.70373888e-02]\n",
            " [ 1.24175844e+00 -1.08944279e+00]\n",
            " [ 1.15171069e+00  1.20351757e+00]\n",
            " [-1.89100270e-02 -8.60146752e-01]\n",
            " [-1.81986498e+00  1.14361398e-01]\n",
            " [-1.90991272e+00  4.00981442e-01]\n",
            " [ 1.60194943e+00  5.70373888e-02]\n",
            " [-1.09948300e+00  3.43657433e-01]\n",
            " [-8.29339754e-01  2.29009415e-01]\n",
            " [-1.54972173e+00 -1.54803486e+00]\n",
            " [-6.49244259e-01  4.00981442e-01]\n",
            " [ 9.71615195e-01 -1.49071085e+00]\n",
            " [-1.81986498e+00 -1.34740083e+00]\n",
            " [ 7.01471952e-01  2.06337770e+00]\n",
            " [ 1.69199717e+00  8.30911508e-01]\n",
            " [-4.69148764e-01  1.23217957e+00]\n",
            " [-1.45967399e+00 -1.72258646e-01]\n",
            " [ 1.51190168e+00 -3.44230673e-01]\n",
            " [-7.39292006e-01  1.31816558e+00]\n",
            " [ 7.91519700e-01 -1.06078078e+00]\n",
            " [ 7.01471952e-01  1.17485556e+00]\n",
            " [-1.89100270e-02  2.00347411e-01]\n",
            " [ 1.15171069e+00 -9.74794770e-01]\n",
            " [-1.36962624e+00 -4.01554682e-01]\n",
            " [-1.99005522e-01 -5.44864704e-01]\n",
            " [ 2.51233215e-01  2.29009415e-01]\n",
            " [ 6.11424205e-01 -1.26141481e+00]\n",
            " [ 2.51233215e-01  2.83753844e-02]\n",
            " [-1.99005522e-01 -2.86906664e-01]\n",
            " [ 1.87209267e+00 -8.60146752e-01]\n",
            " [-2.89053269e-01 -5.73526708e-01]\n",
            " [ 1.69199717e+00  6.58939481e-01]\n",
            " [ 3.41280963e-01  1.63344763e+00]\n",
            " [-1.09948300e+00  4.86967455e-01]\n",
            " [-1.45967399e+00  2.86333424e-01]\n",
            " [-1.08957774e-01  1.14619356e+00]\n",
            " [-3.79101017e-01 -6.30850717e-01]\n",
            " [-2.89053269e-01  7.73587499e-01]\n",
            " [-1.99005522e-01  2.06337770e+00]\n",
            " [-1.18953074e+00 -1.06078078e+00]\n",
            " [ 2.51233215e-01 -5.76106289e-02]\n",
            " [ 3.41280963e-01  1.74809565e+00]\n",
            " [-1.08957774e-01 -6.30850717e-01]\n",
            " [ 6.11424205e-01  6.87601486e-01]\n",
            " [-3.79101017e-01 -8.02822743e-01]\n",
            " [-1.08957774e-01  1.17485556e+00]\n",
            " [-1.89100270e-02 -2.89486244e-02]\n",
            " [-1.18953074e+00 -5.73526708e-01]\n",
            " [ 1.33180618e+00  1.03154554e+00]\n",
            " [-5.59196511e-01 -6.02188713e-01]\n",
            " [-1.18953074e+00 -1.60535887e+00]\n",
            " [-8.29339754e-01  4.29643446e-01]\n",
            " [-3.79101017e-01 -3.44230673e-01]\n",
            " [-9.19387501e-01 -1.26141481e+00]\n",
            " [ 5.21376458e-01 -1.43338684e+00]\n",
            " [ 6.11424205e-01  1.28950358e+00]\n",
            " [-6.49244259e-01 -1.54803486e+00]\n",
            " [-1.54972173e+00  2.57671420e-01]\n",
            " [-1.27957849e+00  4.29643446e-01]\n",
            " [ 7.91519700e-01 -1.11810479e+00]\n",
            " [-3.79101017e-01 -4.01554682e-01]\n",
            " [ 7.01471952e-01 -1.40472484e+00]\n",
            " [-1.18953074e+00 -1.14676680e+00]\n",
            " [-6.49244259e-01  1.80541966e+00]\n",
            " [ 1.87209267e+00 -1.08944279e+00]\n",
            " [ 1.15171069e+00 -1.46204884e+00]\n",
            " [-1.08957774e-01 -4.87540695e-01]\n",
            " [-1.27957849e+00  5.15629459e-01]\n",
            " [ 1.69199717e+00 -9.74794770e-01]\n",
            " [ 8.81567447e-01  4.58305450e-01]\n",
            " [-1.99005522e-01  1.71685406e-01]\n",
            " [-3.79101017e-01  1.43023402e-01]\n",
            " [-4.69148764e-01 -8.31484748e-01]]\n"
          ]
        }
      ]
    },
    {
      "cell_type": "code",
      "source": [
        "# sc_y = StandardScaler()\n",
        "# y_train = sc_y.fit_transform(y_train)"
      ],
      "metadata": {
        "id": "3UxsH4Kx6LfC"
      },
      "execution_count": null,
      "outputs": []
    },
    {
      "cell_type": "code",
      "source": [
        "\n",
        "# Training model \n",
        "\n",
        "# import SVM module \n",
        "from sklearn.svm import SVC\n",
        "\n",
        "# kernal to be set linear as it is binary class\n",
        "model = SVC(kernel = 'linear')\n",
        "\n",
        "# training the model\n",
        "model.fit(x_train, y_train)"
      ],
      "metadata": {
        "colab": {
          "base_uri": "https://localhost:8080/"
        },
        "id": "a_09KNh85D4f",
        "outputId": "e0efd5d4-7bc1-4150-9d34-f7d6aef9f3a1"
      },
      "execution_count": null,
      "outputs": [
        {
          "output_type": "stream",
          "name": "stderr",
          "text": [
            "/usr/local/lib/python3.7/dist-packages/sklearn/utils/validation.py:993: DataConversionWarning:\n",
            "\n",
            "A column-vector y was passed when a 1d array was expected. Please change the shape of y to (n_samples, ), for example using ravel().\n",
            "\n"
          ]
        },
        {
          "output_type": "execute_result",
          "data": {
            "text/plain": [
              "SVC(kernel='linear')"
            ]
          },
          "metadata": {},
          "execution_count": 16
        }
      ]
    },
    {
      "cell_type": "code",
      "source": [
        "# Testing the model\n",
        "y_predict = model.predict(x_test)\n",
        "print(y_predict)"
      ],
      "metadata": {
        "colab": {
          "base_uri": "https://localhost:8080/"
        },
        "id": "L7AQ3jw-7BXj",
        "outputId": "9d2c4cf1-f3e9-40a8-8a39-75237372000f"
      },
      "execution_count": null,
      "outputs": [
        {
          "output_type": "stream",
          "name": "stdout",
          "text": [
            "[0 0 0 1 0 0 0 1 0 1 0 0 0 1 1 1 1 0 0 1 0 1 1 0 0 0 1 1 0 1 0 0 0 1 0 0 0\n",
            " 0 0 0 1 1 0 0 1 0 0 1 0 0 0 0 0 0 0 0 1 0 1 1 0 0 0 0 0 1 0 0 1 0 1 0 0 0\n",
            " 0 1 0 0 0 0 0 0 1 0 0 0 0 0 0 0 0 1 0 0 0 1 1 0 0 0]\n"
          ]
        }
      ]
    },
    {
      "cell_type": "code",
      "source": [
        "# accuracy \n",
        "from sklearn.metrics import accuracy_score\n",
        "\n",
        "print(accuracy_score(y_test, y_predict))"
      ],
      "metadata": {
        "colab": {
          "base_uri": "https://localhost:8080/"
        },
        "id": "R-zwMMAQ7KDn",
        "outputId": "68e98441-d779-4936-e35c-68f30d292b23"
      },
      "execution_count": null,
      "outputs": [
        {
          "output_type": "stream",
          "name": "stdout",
          "text": [
            "0.77\n"
          ]
        }
      ]
    },
    {
      "cell_type": "code",
      "source": [
        "print(y_train.shape)"
      ],
      "metadata": {
        "colab": {
          "base_uri": "https://localhost:8080/"
        },
        "id": "3Bb492YrRHHC",
        "outputId": "e35066c9-282d-40c7-e3a3-f3098ce30f5f"
      },
      "execution_count": null,
      "outputs": [
        {
          "output_type": "stream",
          "name": "stdout",
          "text": [
            "(300, 1)\n"
          ]
        }
      ]
    },
    {
      "cell_type": "markdown",
      "source": [
        "Stackoverflow : Python will generate one index for each shape. To separate the wanted dimension you can set the unwanted dimension to zero"
      ],
      "metadata": {
        "id": "hajG8ja6SA55"
      }
    },
    {
      "cell_type": "code",
      "source": [
        "y_train = y_train[:,0]\n",
        "print(y_train.shape)"
      ],
      "metadata": {
        "colab": {
          "base_uri": "https://localhost:8080/"
        },
        "id": "HHTBAFKiRVj-",
        "outputId": "26a441b0-0369-4d29-ff20-22359329c20d"
      },
      "execution_count": null,
      "outputs": [
        {
          "output_type": "stream",
          "name": "stdout",
          "text": [
            "(300,)\n"
          ]
        }
      ]
    },
    {
      "cell_type": "code",
      "source": [
        "# Linear classifier visulalization \n",
        "\n",
        "# importing the modules\n",
        "import numpy as np\n",
        "import matplotlib.pyplot as plt\n",
        "from matplotlib.colors import ListedColormap\n",
        "\n",
        "# plotting the fgiure\n",
        "plt.figure(figsize = (7,7))\n",
        "\n",
        "# assigning the input values\n",
        "x_set, y_set = x_train, y_train\n",
        "\n",
        "# ploting the linear graph\n",
        "X1, X2 = np.meshgrid(np.arange(start = x_set[:, 0].min() - 1, stop = x_set[:, 0].max() + 1, step = 0.01), np.arange(start = x_set[:, 1].min() - 1, stop = x_set[:, 1].max() + 1, step = 0.01))\n",
        "plt.contourf(X1, X2, model.predict(np.array([X1.ravel(), X2.ravel()]).T).reshape(X1.shape), alpha = 0.75, cmap = ListedColormap(('black', 'white')))\n",
        "plt.xlim(X1.min(), X1.max())\n",
        "plt.ylim(X2.min(), X2.max())\n",
        "\n",
        "# ploting scattered graph for the values\n",
        "for i, j in enumerate(np.unique(y_set)):\n",
        "    plt.scatter(x_set[y_set == j, 0], x_set[y_set == j, 1], c = ListedColormap(('red', 'blue'))(i), label = j)\n",
        "\n",
        "# labeling the graph\n",
        "plt.title('Purchased Vs Non-Purchased')\n",
        "plt.xlabel('Salay')\n",
        "plt.ylabel('Age')\n",
        "plt.legend()\n",
        "plt.show()"
      ],
      "metadata": {
        "id": "zGd85LoKMHe4",
        "outputId": "5c5d1e75-62cd-4769-baea-043141069ecb",
        "colab": {
          "base_uri": "https://localhost:8080/",
          "height": 513
        }
      },
      "execution_count": null,
      "outputs": [
        {
          "output_type": "stream",
          "name": "stderr",
          "text": [
            "*c* argument looks like a single numeric RGB or RGBA sequence, which should be avoided as value-mapping will have precedence in case its length matches with *x* & *y*.  Please use the *color* keyword-argument or provide a 2-D array with a single row if you intend to specify the same RGB or RGBA value for all points.\n",
            "*c* argument looks like a single numeric RGB or RGBA sequence, which should be avoided as value-mapping will have precedence in case its length matches with *x* & *y*.  Please use the *color* keyword-argument or provide a 2-D array with a single row if you intend to specify the same RGB or RGBA value for all points.\n"
          ]
        },
        {
          "output_type": "display_data",
          "data": {
            "text/plain": [
              "<Figure size 504x504 with 1 Axes>"
            ],
            "image/png": "[encoded data removed]"
          },
          "metadata": {
            "needs_background": "light"
          }
        }
      ]
    },
    {
      "cell_type": "code",
      "source": [
        "print(y_test.shape)"
      ],
      "metadata": {
        "colab": {
          "base_uri": "https://localhost:8080/"
        },
        "id": "LWwf7KbzSkf4",
        "outputId": "36d41237-6325-4a9d-fc59-c42cb5596502"
      },
      "execution_count": null,
      "outputs": [
        {
          "output_type": "stream",
          "name": "stdout",
          "text": [
            "(100, 1)\n"
          ]
        }
      ]
    },
    {
      "cell_type": "code",
      "source": [
        "y_test = y_test[:,0]\n",
        "print(y_test.shape)"
      ],
      "metadata": {
        "colab": {
          "base_uri": "https://localhost:8080/"
        },
        "id": "oxfs6RuASqXO",
        "outputId": "00aa10b0-6a34-4a09-a254-21d8aa18884c"
      },
      "execution_count": null,
      "outputs": [
        {
          "output_type": "stream",
          "name": "stdout",
          "text": [
            "(100,)\n"
          ]
        }
      ]
    },
    {
      "cell_type": "code",
      "source": [
        "# Visulizing the prediction \n",
        "\n",
        "# ploting graph of size 7,7\n",
        "plt.figure(figsize = (7,7))\n",
        "\n",
        "# assigning the testing dataset\n",
        "x_set, y_set = x_test, y_test\n",
        "\n",
        "# ploting the predicted graph\n",
        "X1, X2 = np.meshgrid(np.arange(start = x_set[:, 0].min() - 1, stop = x_set[:, 0].max() + 1, step = 0.01),np.arange(start = x_set[:, 1].min() - 1, stop = x_set[:, 1].max() + 1, step = 0.01))\n",
        "plt.contourf(X1, X2, model.predict(np.array([X1.ravel(), X2.ravel()]).T).reshape(X1.shape),alpha = 0.75, cmap = ListedColormap(('black', 'white')))\n",
        "plt.xlim(X1.min(), X1.max())\n",
        "plt.ylim(X2.min(), X2.max())\n",
        "\n",
        "# plorting scattred graph for the testing values\n",
        "for i, j in enumerate(np.unique(y_set)):\n",
        "    plt.scatter(x_set[y_set == j, 0], x_set[y_set == j, 1],c = ListedColormap(('red', 'blue'))(i), label = j)\n",
        "\n",
        "# labelling the graphe\n",
        "plt.title('Purchased vs Not-purchased Predictions')\n",
        "plt.xlabel('Salary')\n",
        "plt.ylabel('Age')\n",
        "plt.legend()\n",
        "plt.show()"
      ],
      "metadata": {
        "colab": {
          "base_uri": "https://localhost:8080/",
          "height": 513
        },
        "id": "CdOTyPh_SQK5",
        "outputId": "0240cd02-75f8-4be8-9bf1-8fee8f8e5575"
      },
      "execution_count": null,
      "outputs": [
        {
          "output_type": "stream",
          "name": "stderr",
          "text": [
            "*c* argument looks like a single numeric RGB or RGBA sequence, which should be avoided as value-mapping will have precedence in case its length matches with *x* & *y*.  Please use the *color* keyword-argument or provide a 2-D array with a single row if you intend to specify the same RGB or RGBA value for all points.\n",
            "*c* argument looks like a single numeric RGB or RGBA sequence, which should be avoided as value-mapping will have precedence in case its length matches with *x* & *y*.  Please use the *color* keyword-argument or provide a 2-D array with a single row if you intend to specify the same RGB or RGBA value for all points.\n"
          ]
        },
        {
          "output_type": "display_data",
          "data": {
            "text/plain": [
              "<Figure size 504x504 with 1 Axes>"
            ],
            "image/png": "[encoded data removed]"
          },
          "metadata": {
            "needs_background": "light"
          }
        }
      ]
    },
    {
      "cell_type": "code",
      "source": [
        "# Training and testing using Radial basis function kernel \n",
        "\n",
        "# importing SVM module\n",
        "from sklearn.svm import SVC\n",
        "\n",
        "# kernel to be set radial bf \n",
        "model1 = SVC(kernel='rbf')\n",
        "\n",
        "# traininf the model\n",
        "model1.fit(x_train, y_train)\n",
        "\n",
        "# testing the model\n",
        "y_pred = model1.predict(x_test)\n",
        "\n",
        "# importing accuracy score\n",
        "from sklearn.metrics import accuracy_score\n",
        "\n",
        "# printing the accuracy of the model\n",
        "print(accuracy_score(y_test, y_pred))"
      ],
      "metadata": {
        "colab": {
          "base_uri": "https://localhost:8080/"
        },
        "id": "XWFruf81TXN3",
        "outputId": "b4c4fe75-5b58-463e-fb2b-d77b483c5537"
      },
      "execution_count": null,
      "outputs": [
        {
          "output_type": "stream",
          "name": "stdout",
          "text": [
            "0.88\n"
          ]
        }
      ]
    },
    {
      "cell_type": "code",
      "source": [
        "# Visualizing Radial basis function kernel classifier\n",
        "\n",
        "# plotting the fgiure\n",
        "plt.figure(figsize = (7,7))\n",
        "\n",
        "# assigning the input values\n",
        "x_set, y_set = x_train, y_train\n",
        "\n",
        "# ploting the linear graph\n",
        "X1, X2 = np.meshgrid(np.arange(start = x_set[:, 0].min() - 1, stop = x_set[:, 0].max() + 1, step = 0.01), np.arange(start = x_set[:, 1].min() - 1, stop = x_set[:, 1].max() + 1, step = 0.01))\n",
        "plt.contourf(X1, X2, model1.predict(np.array([X1.ravel(), X2.ravel()]).T).reshape(X1.shape), alpha = 0.75, cmap = ListedColormap(('black', 'green')))\n",
        "plt.xlim(X1.min(), X1.max())\n",
        "plt.ylim(X2.min(), X2.max())\n",
        "\n",
        "# ploting scattered graph for the values\n",
        "for i, j in enumerate(np.unique(y_set)):\n",
        "    plt.scatter(x_set[y_set == j, 0], x_set[y_set == j, 1], c = ListedColormap(('red', 'blue'))(i), label = j)\n",
        "\n",
        "# labeling the graph\n",
        "plt.title('Purchased Vs Non-Purchased')\n",
        "plt.xlabel('Salay')\n",
        "plt.ylabel('Age')\n",
        "plt.legend()\n",
        "plt.show()"
      ],
      "metadata": {
        "id": "URqX184VTseH",
        "outputId": "355a081c-e96d-4e2e-a53d-846209358ade",
        "colab": {
          "base_uri": "https://localhost:8080/",
          "height": 513
        }
      },
      "execution_count": null,
      "outputs": [
        {
          "output_type": "stream",
          "name": "stderr",
          "text": [
            "*c* argument looks like a single numeric RGB or RGBA sequence, which should be avoided as value-mapping will have precedence in case its length matches with *x* & *y*.  Please use the *color* keyword-argument or provide a 2-D array with a single row if you intend to specify the same RGB or RGBA value for all points.\n",
            "*c* argument looks like a single numeric RGB or RGBA sequence, which should be avoided as value-mapping will have precedence in case its length matches with *x* & *y*.  Please use the *color* keyword-argument or provide a 2-D array with a single row if you intend to specify the same RGB or RGBA value for all points.\n"
          ]
        },
        {
          "output_type": "display_data",
          "data": {
            "text/plain": [
              "<Figure size 504x504 with 1 Axes>"
            ],
            "image/png": "[encoded data removed]"
          },
          "metadata": {
            "needs_background": "light"
          }
        }
      ]
    },
    {
      "cell_type": "code",
      "source": [
        "# Visualizing the prediction using rbf\n",
        "# ploting graph of size 7,7\n",
        "plt.figure(figsize = (7,7))\n",
        "\n",
        "# assigning the testing dataset\n",
        "x_set, y_set = x_test, y_test\n",
        "\n",
        "# ploting the predicted graph\n",
        "X1, X2 = np.meshgrid(np.arange(start = x_set[:, 0].min() - 1, stop = x_set[:, 0].max() + 1, step = 0.01),np.arange(start = x_set[:, 1].min() - 1, stop = x_set[:, 1].max() + 1, step = 0.01))\n",
        "plt.contourf(X1, X2, model1.predict(np.array([X1.ravel(), X2.ravel()]).T).reshape(X1.shape),alpha = 0.75, cmap = ListedColormap(('black', 'green')))\n",
        "plt.xlim(X1.min(), X1.max())\n",
        "plt.ylim(X2.min(), X2.max())\n",
        "\n",
        "# plorting scattred graph for the testing values\n",
        "for i, j in enumerate(np.unique(y_set)):\n",
        "    plt.scatter(x_set[y_set == j, 0], x_set[y_set == j, 1],c = ListedColormap(('red', 'blue'))(i), label = j)\n",
        "\n",
        "# labelling the graphe\n",
        "plt.title('Purchased vs Not-purchased Predictions')\n",
        "plt.xlabel('Salary')\n",
        "plt.ylabel('Age')\n",
        "plt.legend()\n",
        "plt.show()"
      ],
      "metadata": {
        "id": "6p3yof2IU8Cd",
        "outputId": "e42c6f50-b33c-4e44-c477-f20297f54db7",
        "colab": {
          "base_uri": "https://localhost:8080/",
          "height": 513
        }
      },
      "execution_count": null,
      "outputs": [
        {
          "output_type": "stream",
          "name": "stderr",
          "text": [
            "*c* argument looks like a single numeric RGB or RGBA sequence, which should be avoided as value-mapping will have precedence in case its length matches with *x* & *y*.  Please use the *color* keyword-argument or provide a 2-D array with a single row if you intend to specify the same RGB or RGBA value for all points.\n",
            "*c* argument looks like a single numeric RGB or RGBA sequence, which should be avoided as value-mapping will have precedence in case its length matches with *x* & *y*.  Please use the *color* keyword-argument or provide a 2-D array with a single row if you intend to specify the same RGB or RGBA value for all points.\n"
          ]
        },
        {
          "output_type": "display_data",
          "data": {
            "text/plain": [
              "<Figure size 504x504 with 1 Axes>"
            ],
            "image/png": "[encoded data removed]"
          },
          "metadata": {
            "needs_background": "light"
          }
        }
      ]
    },
    {
      "cell_type": "code",
      "source": [
        "# evaluation using confusion matric for binary classification \n",
        "\n",
        "from sklearn.metrics import confusion_matrix\n",
        "\n",
        "confusion_m = confusion_matrix(y_test, y_predict, labels = model.classes_)\n",
        "\n",
        "# true write  data values in each cells of the matrix\n",
        "sns.heatmap(confusion_m, annot = True)\n",
        "plt.savefig('confusion.png')"
      ],
      "metadata": {
        "id": "FJSNw5SeURQT",
        "outputId": "b1efa08e-330d-48e9-f2a5-382b955c980b",
        "colab": {
          "base_uri": "https://localhost:8080/",
          "height": 265
        }
      },
      "execution_count": null,
      "outputs": [
        {
          "output_type": "display_data",
          "data": {
            "text/plain": [
              "<Figure size 432x288 with 2 Axes>"
            ],
            "image/png": "[encoded data removed]"
          },
          "metadata": {
            "needs_background": "light"
          }
        }
      ]
    },
    {
      "cell_type": "code",
      "source": [
        "# classification report \n",
        "# importing classification report\n",
        "from sklearn.metrics import classification_report\n",
        "\n",
        "# printing the report\n",
        "print(classification_report(y_test, y_pred))"
      ],
      "metadata": {
        "id": "8vNjktNOuHr6",
        "outputId": "f4dd6b65-abd3-41c5-83a8-ca0081f55500",
        "colab": {
          "base_uri": "https://localhost:8080/"
        }
      },
      "execution_count": null,
      "outputs": [
        {
          "output_type": "stream",
          "name": "stdout",
          "text": [
            "              precision    recall  f1-score   support\n",
            "\n",
            "           0       0.93      0.86      0.89        58\n",
            "           1       0.83      0.90      0.86        42\n",
            "\n",
            "    accuracy                           0.88       100\n",
            "   macro avg       0.88      0.88      0.88       100\n",
            "weighted avg       0.88      0.88      0.88       100\n",
            "\n"
          ]
        }
      ]
    },
    {
      "cell_type": "code",
      "source": [
        "# Confusion matrix for binary classification\n",
        "# importing the required modules\n",
        "import seaborn as sns\n",
        "from sklearn.metrics import confusion_matrix\n",
        "\n",
        "# passing actual and predicted values\n",
        "cm = confusion_matrix(y_test, y_predict, labels=model.classes_)\n",
        "\n",
        "# true Write data values in each cell of the matrix\n",
        "sns.heatmap(cm, annot=True)\n",
        "plt.savefig('confusion.png')"
      ],
      "metadata": {
        "id": "AFK4JCTluPo6",
        "outputId": "8f85ac88-42a8-44ce-bb4f-73457ffe910b",
        "colab": {
          "base_uri": "https://localhost:8080/",
          "height": 265
        }
      },
      "execution_count": null,
      "outputs": [
        {
          "output_type": "display_data",
          "data": {
            "text/plain": [
              "<Figure size 432x288 with 2 Axes>"
            ],
            "image/png": "[encoded data removed]"
          },
          "metadata": {
            "needs_background": "light"
          }
        }
      ]
    },
    {
      "cell_type": "markdown",
      "source": [
        "**SVM algorithm for multiclass classification using Python**"
      ],
      "metadata": {
        "id": "neyiF5OhumFZ"
      }
    },
    {
      "cell_type": "code",
      "source": [
        ""
      ],
      "metadata": {
        "id": "NjTDJpcRurfX"
      },
      "execution_count": null,
      "outputs": []
    }
  ]
}